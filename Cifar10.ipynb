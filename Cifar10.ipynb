{
  "nbformat": 4,
  "nbformat_minor": 0,
  "metadata": {
    "colab": {
      "name": "Cifar10.ipynb",
      "version": "0.3.2",
      "provenance": [],
      "collapsed_sections": []
    },
    "kernelspec": {
      "name": "python3",
      "display_name": "Python 3"
    },
    "accelerator": "GPU"
  },
  "cells": [
    {
      "cell_type": "markdown",
      "metadata": {
        "id": "view-in-github",
        "colab_type": "text"
      },
      "source": [
        "[View in Colaboratory](https://colab.research.google.com/github/pawelos88/cifar10/blob/master/Cifar10.ipynb)"
      ]
    },
    {
      "metadata": {
        "id": "j48bHGrLDIbz",
        "colab_type": "text"
      },
      "cell_type": "markdown",
      "source": [
        "### Download CIFAR10 dataset"
      ]
    },
    {
      "metadata": {
        "id": "FWRyrtiZslgS",
        "colab_type": "code",
        "colab": {
          "base_uri": "https://localhost:8080/",
          "height": 34
        },
        "outputId": "df9834db-09a5-4097-cfec-5255b6cd2c6a"
      },
      "cell_type": "code",
      "source": [
        "from urllib.request import urlretrieve\n",
        "from urllib.parse import urlparse\n",
        "import os\n",
        "\n",
        "cifar10_url = \"https://www.cs.toronto.edu/~kriz/cifar-10-python.tar.gz\"\n",
        "cifar10_archive_file = os.path.basename(urlparse(cifar10_url).path)\n",
        "\n",
        "urlretrieve(cifar10_url, cifar10_archive_file)"
      ],
      "execution_count": 9,
      "outputs": [
        {
          "output_type": "execute_result",
          "data": {
            "text/plain": [
              "('cifar-10-python.tar.gz', <http.client.HTTPMessage at 0x7faae2420198>)"
            ]
          },
          "metadata": {
            "tags": []
          },
          "execution_count": 9
        }
      ]
    },
    {
      "metadata": {
        "id": "er-1xaOBDQqe",
        "colab_type": "text"
      },
      "cell_type": "markdown",
      "source": [
        "###Extract archive file"
      ]
    },
    {
      "metadata": {
        "id": "KEiCeWf6DT-G",
        "colab_type": "code",
        "colab": {}
      },
      "cell_type": "code",
      "source": [
        "import tarfile\n",
        "\n",
        "def extract_archive_file(archive_file):\n",
        "  with tarfile.open(archive_file) as file:\n",
        "    file.extractall()\n",
        "    \n",
        "extract_archive_file(cifar10_archive_file)"
      ],
      "execution_count": 0,
      "outputs": []
    },
    {
      "metadata": {
        "id": "kibzoibkvS6x",
        "colab_type": "text"
      },
      "cell_type": "markdown",
      "source": [
        "### Load data from archive file"
      ]
    },
    {
      "metadata": {
        "id": "ZuX6_dWlvZvX",
        "colab_type": "code",
        "colab": {}
      },
      "cell_type": "code",
      "source": [
        "import numpy as np\n",
        "import os\n",
        "\n",
        "\n",
        "cifar_path = \"cifar-10-batches-py\"\n",
        "\n",
        "def load_data(cifar_path):\n",
        "  data = load_batches(cifar_path)\n",
        "  test_data = load_test_batch(cifar_path)\n",
        "  return data, test_data \n",
        "\n",
        "def unpickle(file):\n",
        "  import pickle\n",
        "  with open(file, 'rb') as fo:\n",
        "      dict = pickle.load(fo, encoding='bytes')\n",
        "  return dict\n",
        "\n",
        "def load_batches(cifar_path):\n",
        "  batch_names = [ \"data_batch_{}\".format(i) for i in range(1, 6) ]\n",
        "  data_batches = [ load_batch(cifar_path, batch_name) for batch_name in batch_names ]\n",
        "  data = [ data for (data, label) in data_batches ]\n",
        "  labels = [ label for (data, label) in data_batches ]\n",
        "  return np.concatenate(data), np.concatenate(labels)\n",
        "\n",
        "def load_test_batch(cifar_path):\n",
        "  return load_batch(cifar_path, \"test_batch\");\n",
        "\n",
        "def load_batch(cifar_path, batch_name):\n",
        "  data_batch = unpickle(os.path.join(cifar_path, batch_name))\n",
        "  return data_batch[b'data'], data_batch[b'labels']\n",
        "\n",
        "(X, y), (X_test, y_test) = load_data(cifar_path)\n"
      ],
      "execution_count": 0,
      "outputs": []
    },
    {
      "metadata": {
        "id": "nrRHZGzpFNDk",
        "colab_type": "text"
      },
      "cell_type": "markdown",
      "source": [
        "### Split data to train and dev set\n",
        "Use 45000 examples as train set and 5000 as dev set"
      ]
    },
    {
      "metadata": {
        "id": "W6OvJELPwq_i",
        "colab_type": "code",
        "colab": {
          "base_uri": "https://localhost:8080/",
          "height": 71
        },
        "outputId": "8bc18fa1-1cc2-4520-cc99-b77e1a427992"
      },
      "cell_type": "code",
      "source": [
        "from sklearn.cross_validation import train_test_split\n",
        "\n",
        "X_train, X_dev, y_train, y_dev = train_test_split(X, y, test_size=0.1)\n"
      ],
      "execution_count": 2,
      "outputs": [
        {
          "output_type": "stream",
          "text": [
            "/usr/local/lib/python3.6/dist-packages/sklearn/cross_validation.py:41: DeprecationWarning: This module was deprecated in version 0.18 in favor of the model_selection module into which all the refactored classes and functions are moved. Also note that the interface of the new CV iterators are different from that of this module. This module will be removed in 0.20.\n",
            "  \"This module will be removed in 0.20.\", DeprecationWarning)\n"
          ],
          "name": "stderr"
        }
      ]
    },
    {
      "metadata": {
        "id": "B7ZvKeyTPmfG",
        "colab_type": "text"
      },
      "cell_type": "markdown",
      "source": [
        "### Show random images from each category"
      ]
    },
    {
      "metadata": {
        "id": "MchCCGl5PqNU",
        "colab_type": "code",
        "colab": {}
      },
      "cell_type": "code",
      "source": [
        "def reshape(image):\n",
        "  red_channel = image[0:1024].reshape(32, 32)\n",
        "  green_channel = image[1024:2048].reshape(32, 32)\n",
        "  blue_cannel = image[2048:3072].reshape(32, 32)\n",
        "  return np.dstack((red_channel, green_channel, blue_cannel))"
      ],
      "execution_count": 0,
      "outputs": []
    },
    {
      "metadata": {
        "id": "GjH5hqajPru-",
        "colab_type": "text"
      },
      "cell_type": "markdown",
      "source": [
        "### Benchmark using hog feature extractor"
      ]
    },
    {
      "metadata": {
        "id": "hCa5qS3qGCBm",
        "colab_type": "code",
        "colab": {}
      },
      "cell_type": "code",
      "source": [
        "from skimage.feature import hog\n",
        "from skimage import color\n",
        "from matplotlib.pyplot import imshow\n",
        "\n",
        "def get_hog(image):\n",
        "  grey_image = color.rgb2gray(image)\n",
        "  return hog(grey_image, pixels_per_cell=(8, 8), cells_per_block=(2, 2), block_norm='L2-Hys', feature_vector=True)\n",
        "  \n",
        "X_dev_hog = [ get_hog(reshape(x)) for x in X_dev ]\n",
        "X_test_hog = [ get_hog(reshape(x)) for x in X_test ]"
      ],
      "execution_count": 0,
      "outputs": []
    },
    {
      "metadata": {
        "id": "d481X9t4cqYY",
        "colab_type": "code",
        "colab": {}
      },
      "cell_type": "code",
      "source": [
        "X_train_hog = [ get_hog(reshape(x)) for x in X_train ]"
      ],
      "execution_count": 0,
      "outputs": []
    },
    {
      "metadata": {
        "id": "ecKUQMeuNrD0",
        "colab_type": "code",
        "colab": {
          "base_uri": "https://localhost:8080/",
          "height": 34
        },
        "outputId": "0d4c6015-761f-4c74-dedd-6414294975dc"
      },
      "cell_type": "code",
      "source": [
        "from sklearn import svm\n",
        "from sklearn.metrics import accuracy_score\n",
        "\n",
        "svc_model = svm.SVC(kernel='linear', C=0.01)\n",
        "svc_model.fit(X_train_hog, y_train) \n",
        "\n",
        "y_pred = svc_model.predict(X_test_hog)\n",
        "accuracy_score(y_test, y_pred)"
      ],
      "execution_count": 17,
      "outputs": [
        {
          "output_type": "execute_result",
          "data": {
            "text/plain": [
              "0.4999"
            ]
          },
          "metadata": {
            "tags": []
          },
          "execution_count": 17
        }
      ]
    },
    {
      "metadata": {
        "id": "Nce0Qawkre7N",
        "colab_type": "text"
      },
      "cell_type": "markdown",
      "source": [
        "The benchmark above gave 0.4999 accuracy on the test set."
      ]
    },
    {
      "metadata": {
        "id": "BaBV7Q92vpQC",
        "colab_type": "text"
      },
      "cell_type": "markdown",
      "source": [
        "### Extract features using ResNet50"
      ]
    },
    {
      "metadata": {
        "id": "Mk35PTKOVo4U",
        "colab_type": "code",
        "colab": {
          "base_uri": "https://localhost:8080/",
          "height": 34
        },
        "outputId": "d365b25e-1e71-4258-d7a9-fb91e3f4ec1f"
      },
      "cell_type": "code",
      "source": [
        "from keras import applications\n",
        "resnet50 =  applications.resnet50.ResNet50(weights='imagenet', include_top=False, pooling='avg')"
      ],
      "execution_count": 4,
      "outputs": [
        {
          "output_type": "stream",
          "text": [
            "Using TensorFlow backend.\n"
          ],
          "name": "stderr"
        }
      ]
    },
    {
      "metadata": {
        "id": "p4juZEEewqRm",
        "colab_type": "text"
      },
      "cell_type": "markdown",
      "source": [
        "Prepare data to be fed into resnet"
      ]
    },
    {
      "metadata": {
        "id": "LqYax0EBv1ae",
        "colab_type": "code",
        "colab": {}
      },
      "cell_type": "code",
      "source": [
        "import cv2\n",
        "\n",
        "\n",
        "X_train_224 = [ cv2.resize(reshape(x), dsize=(224, 224), interpolation=cv2.INTER_CUBIC) for x in X_train ]\n",
        "X_dev_224 = [ cv2.resize(reshape(x), dsize=(224, 224), interpolation=cv2.INTER_CUBIC) for x in X_dev ]\n",
        "X_test_224 = [ cv2.resize(reshape(x), dsize=(224, 224), interpolation=cv2.INTER_CUBIC) for x in X_test ]"
      ],
      "execution_count": 0,
      "outputs": []
    },
    {
      "metadata": {
        "id": "V9gH8KX79lkm",
        "colab_type": "text"
      },
      "cell_type": "markdown",
      "source": [
        "Extract features"
      ]
    },
    {
      "metadata": {
        "id": "lnrWOkN7xJXL",
        "colab_type": "code",
        "colab": {}
      },
      "cell_type": "code",
      "source": [
        "X_train_features = resnet50.predict(np.array(X_train_224[0:1000]))\n",
        "X_test_features = resnet50.predict(np.array(X_test_224))\n",
        "X_dev_features = resnet50.predict(np.array(X_dev_224))\n"
      ],
      "execution_count": 0,
      "outputs": []
    },
    {
      "metadata": {
        "id": "KNrwRw4w9n2n",
        "colab_type": "text"
      },
      "cell_type": "markdown",
      "source": [
        "Fist svm classifier"
      ]
    },
    {
      "metadata": {
        "id": "3iR05aZk0JQS",
        "colab_type": "code",
        "colab": {
          "base_uri": "https://localhost:8080/",
          "height": 85
        },
        "outputId": "35ce5398-fc1b-41fd-f27a-21f373f1eda8"
      },
      "cell_type": "code",
      "source": [
        "from sklearn import svm\n",
        "from sklearn.metrics import accuracy_score\n",
        "\n",
        "svc_model = svm.SVC(kernel='linear', C=10)\n",
        "svc_model.fit(X_train_features, y_train[0:1000]) \n"
      ],
      "execution_count": 16,
      "outputs": [
        {
          "output_type": "execute_result",
          "data": {
            "text/plain": [
              "SVC(C=10, cache_size=200, class_weight=None, coef0=0.0,\n",
              "  decision_function_shape='ovr', degree=3, gamma='auto', kernel='linear',\n",
              "  max_iter=-1, probability=False, random_state=None, shrinking=True,\n",
              "  tol=0.001, verbose=False)"
            ]
          },
          "metadata": {
            "tags": []
          },
          "execution_count": 16
        }
      ]
    },
    {
      "metadata": {
        "id": "9tusX5gI4KPa",
        "colab_type": "code",
        "colab": {
          "base_uri": "https://localhost:8080/",
          "height": 34
        },
        "outputId": "67b40e4f-81c3-4b2f-c8c4-f33f903c162f"
      },
      "cell_type": "code",
      "source": [
        "y_pred = svc_model.predict(X_dev_features)\n",
        "accuracy_score(y_dev, y_pred)"
      ],
      "execution_count": 17,
      "outputs": [
        {
          "output_type": "execute_result",
          "data": {
            "text/plain": [
              "0.7402"
            ]
          },
          "metadata": {
            "tags": []
          },
          "execution_count": 17
        }
      ]
    },
    {
      "metadata": {
        "id": "1VAlMlQc9Q6x",
        "colab_type": "code",
        "colab": {}
      },
      "cell_type": "code",
      "source": [
        " "
      ],
      "execution_count": 0,
      "outputs": []
    }
  ]
}