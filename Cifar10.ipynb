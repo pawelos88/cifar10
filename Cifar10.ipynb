{
  "nbformat": 4,
  "nbformat_minor": 0,
  "metadata": {
    "colab": {
      "name": "Untitled0.ipynb",
      "version": "0.3.2",
      "provenance": [],
      "collapsed_sections": []
    },
    "kernelspec": {
      "name": "python3",
      "display_name": "Python 3"
    }
  },
  "cells": [
    {
      "cell_type": "markdown",
      "metadata": {
        "id": "view-in-github",
        "colab_type": "text"
      },
      "source": [
        "[View in Colaboratory](https://colab.research.google.com/github/pawelos88/cifar10/blob/master/Cifar10.ipynb)"
      ]
    },
    {
      "metadata": {
        "id": "j48bHGrLDIbz",
        "colab_type": "text"
      },
      "cell_type": "markdown",
      "source": [
        "### Download CIFAR10 dataset"
      ]
    },
    {
      "metadata": {
        "id": "FWRyrtiZslgS",
        "colab_type": "code",
        "colab": {
          "base_uri": "https://localhost:8080/",
          "height": 34
        },
        "outputId": "65e858b2-8fe8-4815-c7b6-5c2c96d25b79"
      },
      "cell_type": "code",
      "source": [
        "from urllib.request import urlretrieve\n",
        "from urllib.parse import urlparse\n",
        "import os\n",
        "\n",
        "cifar10_url = \"https://www.cs.toronto.edu/~kriz/cifar-10-python.tar.gz\"\n",
        "cifar10_archive_file = os.path.basename(urlparse(cifar10_url).path)\n",
        "\n",
        "urlretrieve(cifar10_url, cifar10_file)"
      ],
      "execution_count": 18,
      "outputs": [
        {
          "output_type": "execute_result",
          "data": {
            "text/plain": [
              "('cifar-10-python.tar.gz', <http.client.HTTPMessage at 0x7f0e5915bb00>)"
            ]
          },
          "metadata": {
            "tags": []
          },
          "execution_count": 18
        }
      ]
    },
    {
      "metadata": {
        "id": "er-1xaOBDQqe",
        "colab_type": "text"
      },
      "cell_type": "markdown",
      "source": [
        "###Extract archive file"
      ]
    },
    {
      "metadata": {
        "id": "KEiCeWf6DT-G",
        "colab_type": "code",
        "colab": {}
      },
      "cell_type": "code",
      "source": [
        "def extract_archive_file(archive_file):\n",
        "  with tarfile.open(archive_file) as file:\n",
        "    file.extractall()\n",
        "    \n",
        "extract_archive_file(cifar10_archive_file)"
      ],
      "execution_count": 0,
      "outputs": []
    },
    {
      "metadata": {
        "id": "kibzoibkvS6x",
        "colab_type": "text"
      },
      "cell_type": "markdown",
      "source": [
        "### Load data from archive file"
      ]
    },
    {
      "metadata": {
        "id": "ZuX6_dWlvZvX",
        "colab_type": "code",
        "colab": {}
      },
      "cell_type": "code",
      "source": [
        "import tarfile\n",
        "import numpy as np\n",
        "\n",
        "cifar_path = \"cifar-10-batches-py\"\n",
        "\n",
        "def load_data(archive_file, cifar_path):\n",
        "  data = load_batches(cifar_path)\n",
        "  test_data = load_test_batch(cifar_path)\n",
        "  return data, test_data \n",
        "\n",
        "def unpickle(file):\n",
        "  import pickle\n",
        "  with open(file, 'rb') as fo:\n",
        "      dict = pickle.load(fo, encoding='bytes')\n",
        "  return dict\n",
        "\n",
        "def load_batches(cifar_path):\n",
        "  batch_names = [ \"data_batch_{}\".format(i) for i in range(1, 6) ]\n",
        "  data_batches = [ load_batch(cifar_path, batch_name) for batch_name in batch_names ]\n",
        "  data = [ data for (data, label) in data_batches ]\n",
        "  labels = [ label for (data, label) in data_batches ]\n",
        "  return np.concatenate(data), np.concatenate(labels)\n",
        "\n",
        "def load_test_batch(cifar_path):\n",
        "  return load_batch(cifar_path, \"test_batch\");\n",
        "\n",
        "def load_batch(cifar_path, batch_name):\n",
        "  data_batch = unpickle(os.path.join(cifar_path, batch_name))\n",
        "  return data_batch[b'data'], data_batch[b'labels']\n",
        "  \n",
        "\n",
        "(X, y), (X_test, y_test) = load_data(cifar10_file, cifar_path)\n"
      ],
      "execution_count": 0,
      "outputs": []
    },
    {
      "metadata": {
        "id": "nrRHZGzpFNDk",
        "colab_type": "text"
      },
      "cell_type": "markdown",
      "source": [
        "### Split data to train and dev set"
      ]
    },
    {
      "metadata": {
        "id": "W6OvJELPwq_i",
        "colab_type": "code",
        "colab": {}
      },
      "cell_type": "code",
      "source": [
        "from sklearn.cross_validation import train_test_split\n",
        "\n",
        "X_train, X_dev, y_train, y_dev = train_test_split(X, y, test_size=0.1)"
      ],
      "execution_count": 0,
      "outputs": []
    },
    {
      "metadata": {
        "id": "hCa5qS3qGCBm",
        "colab_type": "code",
        "colab": {}
      },
      "cell_type": "code",
      "source": [
        ""
      ],
      "execution_count": 0,
      "outputs": []
    }
  ]
}